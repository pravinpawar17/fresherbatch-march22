{
 "cells": [
  {
   "cell_type": "markdown",
   "id": "a2290d25",
   "metadata": {},
   "source": [
    "Q.1 Strong Password Detection\n",
    "Write a function that uses regular expressions to make sure the password string it is passed is strong. A strong password is defined as one that is at least eight characters long, contains both uppercase and lowercase characters, and has at least one digit. You may need to test the string against multiple regex patterns to validate its strength."
   ]
  },
  {
   "cell_type": "code",
   "execution_count": 22,
   "id": "6fa293d9",
   "metadata": {},
   "outputs": [
    {
     "name": "stdout",
     "output_type": "stream",
     "text": [
      "Enter a potential password: pravin\n",
      "Not strong, bling blong\n"
     ]
    },
    {
     "data": {
      "text/plain": [
       "False"
      ]
     },
     "execution_count": 22,
     "metadata": {},
     "output_type": "execute_result"
    }
   ],
   "source": [
    "import re\n",
    "\n",
    "passwordRegex = re.compile(r'''(\n",
    "    ^(?=.*[A-Z].*[A-Z])               \n",
    "    (?=.*[!@#$&*])                     \n",
    "    (?=.*[0-9].*[0-9])             \n",
    "    (?=.*[a-z].*[a-z].*[a-z])          \n",
    "    .{10,}                             \n",
    "    $\n",
    "    )''', re.VERBOSE)\n",
    "\n",
    "def userInputPasswordCheck():\n",
    "    ppass = input(\"Enter a potential password: \")\n",
    "    mo = passwordRegex.search(ppass)\n",
    "    if (not mo):\n",
    "        print(\"Not strong, bling blong\")\n",
    "        return False\n",
    "    else:\n",
    "        print(\"Long, Strong, and down to get the crypto on\")\n",
    "        return True\n",
    "\n",
    "\n",
    "userInputPasswordCheck()"
   ]
  },
  {
   "cell_type": "markdown",
   "id": "dec550c9",
   "metadata": {},
   "source": [
    "Q.2 Regex Version of strip()\n",
    "Write a function that takes a string and does the same thing as the strip() string method. If no other arguments are passed other than the string to strip, then whitespace characters will be removed from the beginning and end of the string. Otherwise, the characters specified in the second argument to the function will be removed from the string."
   ]
  },
  {
   "cell_type": "code",
   "execution_count": 27,
   "id": "7d981e68",
   "metadata": {},
   "outputs": [
    {
     "name": "stdout",
     "output_type": "stream",
     "text": [
      "Enter string to be stripped: Mi CSK RR RCB\n",
      "Enter character to be removed, if none press enter: RCB\n",
      "Mi CSK RR \n"
     ]
    }
   ],
   "source": [
    "import re\n",
    "\n",
    "def regex_strip(s, char=None):\n",
    "    \n",
    "    if not char:\n",
    "        strip_left = re.compile(r'^\\s*') #string starting with whitespace\n",
    "        strip_right = re.compile(r'\\s*$') #string ending with whitespace\n",
    "\n",
    "        s = re.sub(strip_left, \"\", s) #replacing strip_left with \"\" in string s\n",
    "        s = re.sub(strip_right, \"\", s) #replacing strip_right with \"\" in string s\n",
    "\n",
    "    else:\n",
    "        strip_char = re.compile(char)\n",
    "        s = re.sub(strip_char, \"\", s)\n",
    "    return s\n",
    "\n",
    "if __name__ == '__main__':\n",
    "    string_to_be_stripped = input(\"Enter string to be stripped: \")\n",
    "    char_to_be_removed = input(\"Enter character to be removed, if none press enter: \")\n",
    "    print(regex_strip(string_to_be_stripped, char_to_be_removed)) "
   ]
  },
  {
   "cell_type": "code",
   "execution_count": null,
   "id": "ec116cfc",
   "metadata": {},
   "outputs": [],
   "source": []
  },
  {
   "cell_type": "markdown",
   "id": "00a05fd7",
   "metadata": {},
   "source": [
    "Q.3 Create a Mad Libs program that reads in text files and lets the user add their own text anywhere the word ADJECTIVE, NOUN, ADVERB, or VERB appears in the text file. \n",
    "\n",
    "For example, a text file may look like this:\n",
    "\n",
    "\tThe ADJECTIVE panda walked to the NOUN and then VERB. A nearby NOUN was unaffected by these events.\n",
    "\n",
    "\n",
    "\n",
    "The program would find these occurrences and prompt the user to replace them.\n",
    "\n",
    "Enter an adjective:\n",
    "silly\n",
    "Enter a noun:\n",
    "chandelier\n",
    "Enter a verb:\n",
    "screamed\n",
    "Enter a noun:\n",
    "pickup truck\n",
    "\n",
    "\n",
    "\n",
    "The following text file would then be created:\n",
    "\n",
    "\tThe silly panda walked to the chandelier and then screamed. A nearby pickup truck was unaffected by these events.\n",
    "\n",
    "\n",
    "\n",
    "The results should be printed to the screen and saved to a new text file."
   ]
  },
  {
   "cell_type": "code",
   "execution_count": 29,
   "id": "3f5ebd57",
   "metadata": {},
   "outputs": [
    {
     "name": "stdout",
     "output_type": "stream",
     "text": [
      "The silly panda walked to the chandelier and then screamed. A nearby pickup truck was unaffected by these events. \n"
     ]
    }
   ],
   "source": [
    "import re\n",
    "\n",
    "file = open('regx.txt', 'r')\n",
    "content = file.read()\n",
    "mad_lib_words = list(content.split())\n",
    "file.close()\n",
    "\n",
    "adj_regex = re.compile(r'ADJECTIVE')\n",
    "noun_regex = re.compile(r'NOUN')\n",
    "adv_regex = re.compile(r'ADVERB')\n",
    "verb_regex = re.compile(r'VERB')\n",
    "\n",
    "result_file = open('.regx.txt', 'w')\n",
    "result_string = \"\"\n",
    "for word in mad_lib_words:\n",
    "    if adj_regex.match(word):\n",
    "        word = adj_regex.sub(input(\"Give an adjective: \"), word)\n",
    "    elif noun_regex.match(word):\n",
    "        word = noun_regex.sub(input(\"Give a noun: \"), word)\n",
    "    elif verb_regex.match(word):\n",
    "        word = verb_regex.sub(input(\"Give a verb: \"), word)\n",
    "    elif adv_regex.match(word):\n",
    "        word = adv_regex.sub(input(\"Give a adverb: \"), word)\n",
    "    result_string += word + \" \"\n",
    "    result_file.write(word + \" \")\n",
    "\n",
    "print(result_string)\n",
    "result_file.close()"
   ]
  },
  {
   "cell_type": "markdown",
   "id": "e3e2dcd5",
   "metadata": {},
   "source": [
    "Q.4 Write a program that opens all .txt files in a folder and searches for any line that matches a user-supplied regular expression. The results should be printed to the screen. "
   ]
  },
  {
   "cell_type": "code",
   "execution_count": 34,
   "id": "754cc218",
   "metadata": {},
   "outputs": [
    {
     "name": "stdout",
     "output_type": "stream",
     "text": [
      "Enter your regular expression:\n",
      "(.*)\n",
      "We found the following lines matching your regular expression:\n"
     ]
    }
   ],
   "source": [
    "import glob, re\n",
    "\n",
    "destFolder = 'Desktop/ML practice'\n",
    "userRegex = input('Enter your regular expression:\\n')\n",
    "\n",
    "print('We found the following lines matching your regular expression:')\n",
    "for fileName in glob.glob(destFolder + '/*.txt'):\n",
    "\ttxtFile = open(fileName, 'r')\n",
    "\tpattern = re.compile(r\"%s\"%userRegex)\n",
    "\tfor line in txtFile:\n",
    "\t\tif re.search(pattern, line) is not None:\n",
    "\t\t\tprint(line, end='')\n",
    "\ttxtFile.close()"
   ]
  },
  {
   "cell_type": "code",
   "execution_count": null,
   "id": "81e8f68f",
   "metadata": {},
   "outputs": [],
   "source": []
  },
  {
   "cell_type": "markdown",
   "id": "1c5e3016",
   "metadata": {},
   "source": [
    "Q.5 Selective Copy:\n",
    "Write a program that walks through a folder tree and searches for files with a certain file extension (such as .pdf or .jpg). Copy these files from whatever location they are in to a new folder.\n",
    "\n",
    "\n",
    "\n",
    "Deleting Unneeded Files:\n",
    "It’s not uncommon for a few unneeded but humongous files or folders to take up the bulk of the space on your hard drive. If you’re trying to free up room on your computer, you’ll get the most bang for your buck by deleting the most massive of the unwanted files. But first you have to find them.\n",
    "Write a program that walks through a folder tree and searches for exceptionally large files or folders—say, ones that have a file size of more than 100MB. (Remember, to get a file’s size, you can use os.path.getsize() from the os module.) Print these files with their absolute path to the screen\n",
    "\n",
    "\n",
    "\n",
    "Filling in the Gaps:\n",
    "Write a program that finds all files with a given prefix, such as spam001.txt, spam002.txt, and so on, in a single folder and locates any gaps in the numbering (such as if there is a spam001.txt and spam003.txt but no spam002.txt).\n",
    "Have the program rename all the later files to close this gap.\n",
    "As an added challenge, write another program that can insert gaps into numbered files so that a new file can be added"
   ]
  },
  {
   "cell_type": "code",
   "execution_count": 39,
   "id": "01a39239",
   "metadata": {},
   "outputs": [
    {
     "name": "stdout",
     "output_type": "stream",
     "text": [
      "Looking in C:\\Users\\Pravin\\Desktop\\ML practice\\randomFolder for files with extensions of .csv, .py, .pdf, .jpg\n"
     ]
    }
   ],
   "source": [
    "import os, shutil\n",
    "\n",
    "def selectiveCopy(folder, extensions, destFolder):\n",
    "\tfolder = os.path.abspath(folder)\n",
    "\tdestFolder = os.path.abspath(destFolder)\n",
    "\tprint('Looking in', folder, 'for files with extensions of', ', '.join(extensions))\n",
    "\tfor foldername, subfolders, filenames in os.walk(folder):\n",
    "\t\tfor filename in filenames:\n",
    "\t\t\tname, extension = os.path.splitext(filename)\n",
    "\t\t\tif extension in extensions:\n",
    "\t\t\t\tfileAbsPath = foldername + os.path.sep + filename\n",
    "\t\t\t\tprint('Coping', fileAbsPath, 'to', destFolder)\n",
    "\t\t\t\tshutil.copy(fileAbsPath, destFolder)\n",
    "\n",
    "extensions = ['.csv', '.py','.pdf','.jpg']\n",
    "folder = 'randomFolder'\n",
    "destFolder = 'selectiveFolder'\n",
    "selectiveCopy(folder, extensions, destFolder)"
   ]
  },
  {
   "cell_type": "code",
   "execution_count": 42,
   "id": "4d856b82",
   "metadata": {},
   "outputs": [
    {
     "ename": "IndentationError",
     "evalue": "expected an indented block (<ipython-input-42-597bb716c970>, line 18)",
     "output_type": "error",
     "traceback": [
      "\u001b[1;36m  File \u001b[1;32m\"<ipython-input-42-597bb716c970>\"\u001b[1;36m, line \u001b[1;32m18\u001b[0m\n\u001b[1;33m    print('You got it!')\u001b[0m\n\u001b[1;37m    ^\u001b[0m\n\u001b[1;31mIndentationError\u001b[0m\u001b[1;31m:\u001b[0m expected an indented block\n"
     ]
    }
   ],
   "source": [
    "#Q.6 Debugging a Program:-\n",
    "\n",
    "#The following program is meant to be a simple coin toss guessing game. The player gets two guesses (it’s an easy game). \n",
    "#However, the program has several bugs in it. Run through the program a few times to find the bugs that keep the program from working correctly.\n",
    "\n",
    "import random\n",
    "guess = ''\n",
    "while guess not in ('heads', 'tails'):\n",
    " print('Guess the coin toss! Enter heads or tails:')\n",
    " guess = input()\n",
    "toss = random.randint(0, 1) # 0 is tails, 1 is heads\n",
    "if toss == guess:\n",
    " print('You got it!')\n",
    "else:\n",
    " print('Nope! Guess again!')\n",
    " guesss = input()\n",
    " if toss == guess:\n",
    " print('You got it!')\n",
    " else:\n",
    " print('Nope. You are really bad at this game.')\n"
   ]
  },
  {
   "cell_type": "markdown",
   "id": "e6df5bd3",
   "metadata": {},
   "source": [
    "Q.7  Command Line Emailer:\n",
    "Write a program that takes an email address and string of text on the command line and then, using Selenium, logs into your email account and sends an email of the string to the provided address. (You might want to set up a separate email account for this program.)\n",
    "This would be a nice way to add a notification feature to your programs. You could also write a similar program to send messages from a Facebook or Twitter account.\n",
    "\n",
    "\n",
    "\n",
    "Image Site Downloader\n",
    "Write a program that goes to a photo-sharing site like Flickr or Imgur, searches for a category of photos, and then downloads all the resulting images. You could write a program that works with any photo site that has a search feature.\n",
    "\n",
    "\n",
    "\n",
    "2048\n",
    "2048 is a simple game where you combine tiles by sliding them up, down, left, or right with the arrow keys. You can actually get a fairly high score by repeatedly sliding in an up, right, down, and left pattern over and over again. Write a program that will open the game at https://gabrielecirulli.github.io/2048/ and keep sending up, right, down, and left keystrokes to automatically play the game.\n",
    "\n",
    "\n",
    "\n",
    "Link Verification\n",
    "Write a program that, given the URL of a web page, will attempt to download every linked page on the page. The program should flag any pages that have a 404 “Not Found” status code and print them out as broken links."
   ]
  },
  {
   "cell_type": "code",
   "execution_count": null,
   "id": "e0f47477",
   "metadata": {},
   "outputs": [],
   "source": []
  },
  {
   "cell_type": "markdown",
   "id": "191cad03",
   "metadata": {},
   "source": [
    "Q.8 Write a program that checks the websites of several web comics and automatically downloads the images if the comic was updated since the program’s last visit. Your operating system’s scheduler (Scheduled Tasks on Windows, launchd on OS X, and cron on Linux) can run your Python program once a day. The Python program itself can download the comic and then copy it to your desktop so that it is easy to find. This will free you from having to check the website yourself to see whether it has updated. (A list of web comics is available at http://nostarch.com/automatestuff/.)"
   ]
  },
  {
   "cell_type": "code",
   "execution_count": null,
   "id": "5298a61b",
   "metadata": {},
   "outputs": [],
   "source": []
  },
  {
   "cell_type": "markdown",
   "id": "84f4fb96",
   "metadata": {},
   "source": [
    "Q.9 Random Chore Assignment Emailer:\n",
    "Write a program that takes a list of people’s email addresses and a list of chores that need to be done and randomly assigns chores to people. Email each person their assigned chores. If you’re feeling ambitious, keep a record of each person’s previously assigned chores so that you can make sure the program avoids assigning anyone the same chore they did last time. For another possible feature, schedule the program to run once a week automatically.\n",
    "\n",
    "Here’s a hint: If you pass a list to the random.choice() function, it will return a randomly selected item from the list. Part of your code could look\n",
    "like this:\n",
    "\n",
    "chores = ['dishes', 'bathroom', 'vacuum', 'walk dog']\n",
    "randomChore = random.choice(chores)\n",
    "chores.remove(randomChore) # this chore is now taken, so remove it\n",
    "\n",
    "\n",
    "\n",
    "\n",
    "\n",
    "Umbrella Reminder:\n",
    "Use the requests module to scrape data from http://weather.gov/. Write a program that runs just before you wake up in the morning and checks whether it’s raining that day. If so, have the program\n",
    "text you a reminder to pack an umbrella before leaving the house."
   ]
  },
  {
   "cell_type": "code",
   "execution_count": null,
   "id": "62d85f56",
   "metadata": {},
   "outputs": [],
   "source": []
  }
 ],
 "metadata": {
  "kernelspec": {
   "display_name": "Python 3",
   "language": "python",
   "name": "python3"
  },
  "language_info": {
   "codemirror_mode": {
    "name": "ipython",
    "version": 3
   },
   "file_extension": ".py",
   "mimetype": "text/x-python",
   "name": "python",
   "nbconvert_exporter": "python",
   "pygments_lexer": "ipython3",
   "version": "3.8.8"
  }
 },
 "nbformat": 4,
 "nbformat_minor": 5
}
