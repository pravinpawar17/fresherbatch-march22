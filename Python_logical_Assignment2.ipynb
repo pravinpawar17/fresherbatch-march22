{
 "cells": [
  {
   "cell_type": "markdown",
   "id": "cd2e7add",
   "metadata": {},
   "source": [
    "Q.1 Search online for the Python documentation for the len() function. It will be on a web page titled “Built-in Functions.” Skim the list of other functions Python has, look up what the round() function does, and experiment with it in the interactive shell.\n",
    "\n",
    "\n",
    "\n",
    "Look up the round() and abs() functions on the Internet, and find out what they do. Experiment with them in the interactive shell.\n"
   ]
  },
  {
   "cell_type": "markdown",
   "id": "167eef31",
   "metadata": {},
   "source": [
    "1.abs() for absolute value\n",
    "\n",
    "2.round() to round a number to a certain decimal point\n"
   ]
  },
  {
   "cell_type": "markdown",
   "id": "5d83eb6d",
   "metadata": {},
   "source": [
    "Q.2 Write a function named collatz() that has one parameter named number. \n",
    "If number is even, then collatz() should print number // 2 and return this value. \n",
    "If number is odd, then collatz() should print and return 3 * number + 1.\n",
    "\n",
    "Then write a program that lets the user type in an integer and that keeps calling collatz() on that number until the function returns the value 1. (Amazingly enough, this sequence actually works for any integer—sooner or later, using this sequence, you’ll arrive at 1! Even mathematicians aren’t sure why. Your program is exploring what’s called the Collatz sequence, sometimes called “the simplest impossible math problem.”)\n",
    "\n",
    "Remember to convert the return value from input() to an integer with the int() function; otherwise, it will be a string value.\n",
    "\n",
    "Hint: An integer number is even if number % 2 == 0, and it’s odd if\n",
    "number % 2 == 1.\n",
    "\n",
    "The output of this program could look something like this:-\n",
    "\n",
    "Enter number:\n",
    "3\n",
    "10\n",
    "5\n",
    "16\n",
    "8\n",
    "4\n",
    "2\n",
    "1\n",
    "\n",
    "Input Validation:-\n",
    "Add try and except statements to the previous project to detect whether the user types in a noninteger string. Normally, the int() function will raise a ValueError error if it is passed a noninteger string, as in int('puppy'). In the except clause, print a message to the user saying they must enter an integer."
   ]
  },
  {
   "cell_type": "code",
   "execution_count": 3,
   "id": "ff7a904e",
   "metadata": {},
   "outputs": [
    {
     "name": "stdout",
     "output_type": "stream",
     "text": [
      "give me a number: 3\n",
      "10\n",
      "5\n",
      "16\n",
      "8\n",
      "4\n",
      "2\n",
      "1\n"
     ]
    }
   ],
   "source": [
    "def collatz(number):\n",
    "    if number % 2 == 0:\n",
    "        print(number // 2)\n",
    "        return number // 2\n",
    "    elif number % 2 == 1:\n",
    "        result = 3*number+1\n",
    "        print(result)\n",
    "        return result\n",
    "n = input(\"give me a number: \")\n",
    "while n != 1:\n",
    "    n = collatz(int(n))"
   ]
  },
  {
   "cell_type": "markdown",
   "id": "bb019f6b",
   "metadata": {},
   "source": [
    "Q.3Say you have a list value like this:\n",
    "spam = ['apples', 'bananas', 'tofu', 'cats']\n",
    "\n",
    "Write a function that takes a list value as an argument and returns a string with all the items separated by a comma and a space, with and inserted before the last item. \n",
    "\n",
    "For example, passing the previous spam list to the function would return 'apples, bananas, tofu, and cats'. But your function should be able to work with any list value passed to it."
   ]
  },
  {
   "cell_type": "code",
   "execution_count": 4,
   "id": "8762403a",
   "metadata": {},
   "outputs": [
    {
     "name": "stdout",
     "output_type": "stream",
     "text": [
      "'apples, bananas, tofu, and cats'\n"
     ]
    }
   ],
   "source": [
    "spam = ['apples', 'bananas', 'tofu', 'cats']\n",
    "print(\"'\", end='')\n",
    "for i in range(len(spam)-1):\n",
    "    print(spam[i], end=', ')\n",
    "print('and '+str(spam[-1]), end='')\n",
    "print(\"'\")"
   ]
  },
  {
   "cell_type": "code",
   "execution_count": null,
   "id": "360dfdf9",
   "metadata": {},
   "outputs": [],
   "source": []
  },
  {
   "cell_type": "markdown",
   "id": "68f6a437",
   "metadata": {},
   "source": [
    "Q.4 Say you have a list of lists where each value in the inner lists is a one-character string, like this:\n",
    "grid = [['.', '.', '.', '.', '.', '.'],\n",
    " ['.', 'O', 'O', '.', '.', '.'],\n",
    " ['O', 'O', 'O', 'O', '.', '.'],\n",
    " ['O', 'O', 'O', 'O', 'O', '.'],\n",
    " ['.', 'O', 'O', 'O', 'O', 'O'],\n",
    " ['O', 'O', 'O', 'O', 'O', '.'],\n",
    " ['O', 'O', 'O', 'O', '.', '.'],\n",
    " ['.', 'O', 'O', '.', '.', '.'],\n",
    " ['.', '.', '.', '.', '.', '.']]\n",
    "\n",
    "You can think of grid[x][y] as being the character at the x- and y-coordinates of a “picture” drawn with text characters. The (0, 0) origin will be in the upper-left corner, the x-coordinates increase going right, and the y-coordinates increase going down.\n",
    "\n",
    "Copy the previous grid value, and write code that uses it to print the image.\n",
    "\n",
    "..OO.OO..\n",
    ".OOOOOOO.\n",
    ".OOOOOOO.\n",
    "..OOOOO..\n",
    "...OOO...\n",
    "....O....\n",
    "\n",
    "\n",
    "Hint: You will need to use a loop in a loop in order to print grid[0][0], then grid[1][0], then grid[2][0], and so on, up to grid[8][0]. This will finish the first row, so then print a newline. Then your program should print grid[0][1], then grid[1][1], then grid[2][1], and so on. The last thing your program will print is grid[8][5]. Also, remember to pass the end keyword argument to print() if you\n",
    "don’t want a newline printed automatically after each print() call."
   ]
  },
  {
   "cell_type": "code",
   "execution_count": 12,
   "id": "35b16654",
   "metadata": {},
   "outputs": [
    {
     "name": "stdout",
     "output_type": "stream",
     "text": [
      "..OO.OO..\n",
      ".OOOOOOO.\n",
      ".OOOOOOO.\n",
      "..OOOOO..\n",
      "...OOO...\n",
      "....O....\n"
     ]
    }
   ],
   "source": [
    "\n",
    "grid = [['.', '.', '.', '.', '.', '.'],\n",
    " ['.', 'O', 'O', '.', '.', '.'],\n",
    " ['O', 'O', 'O', 'O', '.', '.'],\n",
    " ['O', 'O', 'O', 'O', 'O', '.'],\n",
    " ['.', 'O', 'O', 'O', 'O', 'O'],\n",
    " ['O', 'O', 'O', 'O', 'O', '.'],\n",
    " ['O', 'O', 'O', 'O', '.', '.'],\n",
    " ['.', 'O', 'O', '.', '.', '.'],\n",
    " ['.', '.', '.', '.', '.', '.']]\n",
    "\n",
    "\n",
    "print('\\n'.join(map(''.join, zip(*grid))))\n",
    "\n"
   ]
  },
  {
   "cell_type": "code",
   "execution_count": null,
   "id": "8fc8fce5",
   "metadata": {},
   "outputs": [],
   "source": []
  },
  {
   "cell_type": "markdown",
   "id": "f9df3969",
   "metadata": {},
   "source": [
    "Q.5 You are creating a fantasy video game.\n",
    "The data structure to model the player’s inventory will be a dictionary where the keys are string values describing the item in the inventory and the value is an integer value detailing how many of that item the player has. \n",
    "\n",
    "For example, the dictionary value {'rope': 1, 'torch': 6, 'gold coin': 42, 'dagger': 1, 'arrow': 12} means the player has 1 rope, 6 torches, 42 gold coins, and so on.\n",
    "\n",
    "\n",
    "Write a function named displayInventory() that would take any possible “inventory” and display it like the following:\n",
    "Inventory:\n",
    "12 arrow\n",
    "42 gold coin\n",
    "1 rope\n",
    "6 torch\n",
    "1 dagger\n",
    "Total number of items: 62\n",
    "\n",
    "\n",
    "Hint: You can use a for loop to loop through all the keys in a dictionary.\n",
    "\n",
    "# inventory.py\n",
    "stuff = {'rope': 1, 'torch': 6, 'gold coin': 42, 'dagger': 1, 'arrow': 12}\n",
    "def displayInventory(inventory):\n",
    " print(\"Inventory:\")\n",
    " item_total = 0\n",
    " for k, v in inventory.items():\n",
    " # FILL THIS PART IN\n",
    " print(\"Total number of items: \" + str(item_total))\n",
    "displayInventory(stuff)"
   ]
  },
  {
   "cell_type": "code",
   "execution_count": 13,
   "id": "bff5b243",
   "metadata": {},
   "outputs": [
    {
     "name": "stdout",
     "output_type": "stream",
     "text": [
      "Inventory:\n",
      "1 rope\n",
      "6 torch\n",
      "42 gold coin\n",
      "1 dagger\n",
      "12 arrow\n",
      "Total number of items: 62\n"
     ]
    }
   ],
   "source": [
    "stuff = {'rope': 1, 'torch': 6, 'gold coin': 42, 'dagger': 1, 'arrow': 12}\n",
    "\n",
    "def display_inventory(inventory):\n",
    "    total_items = 0\n",
    "    print (\"Inventory:\")\n",
    "    for item in inventory:\n",
    "        print(str(inventory[item]) + ' ' + item)\n",
    "        total_items += inventory[item]\n",
    "    print(\"Total number of items: \" + str(total_items))\n",
    "\n",
    "if __name__ == '__main__':\n",
    "    display_inventory(stuff)\n"
   ]
  },
  {
   "cell_type": "markdown",
   "id": "528cc880",
   "metadata": {},
   "source": [
    "Q.6 Imagine that a vanquished dragon’s loot is represented as a list of strings like this:\n",
    "\n",
    "dragonLoot = ['gold coin', 'dagger', 'gold coin', 'gold coin', 'ruby']\n",
    "\n",
    "Write a function named addToInventory(inventory, addedItems), where the inventory parameter is a dictionary representing the player’s inventory (like in the previous project) and the addedItems parameter is a list like dragonLoot.\n",
    "\n",
    "The addToInventory() function should return a dictionary that represents the updated inventory. Note that the addedItems list can contain multiples of the same item. Your code could look something like this:\n",
    "\n",
    "def addToInventory(inventory, addedItems):\n",
    " # your code goes here\n",
    "inv = {'gold coin': 42, 'rope': 1}\n",
    "dragonLoot = ['gold coin', 'dagger', 'gold coin', 'gold coin', 'ruby']\n",
    "inv = addToInventory(inv, dragonLoot)\n",
    "displayInventory(inv)\n",
    "\n",
    "\n",
    "The previous program (with your displayInventory() function from the previous project) would output the following:\n",
    "\n",
    "Inventory:\n",
    "45 gold coin\n",
    "1 rope\n",
    "1 ruby\n",
    "1 dagger\n",
    "Total number of items: 48"
   ]
  },
  {
   "cell_type": "code",
   "execution_count": 43,
   "id": "3ef454e3",
   "metadata": {},
   "outputs": [
    {
     "name": "stdout",
     "output_type": "stream",
     "text": [
      "42 gold coin\n",
      "1 rope\n",
      "Total number of items: 43\n",
      "45 gold coin\n",
      "1 rope\n",
      "1 dagger\n",
      "1 ruby\n",
      "Total number of items: 48\n"
     ]
    }
   ],
   "source": [
    "inv = {'gold coin': 42, 'rope': 1}\n",
    "displayInventory(inv)\n",
    "dragonLoot = ['gold coin', 'dagger', 'gold coin', 'gold coin', 'ruby']\n",
    "inv = addToInventory(inv, dragonLoot)\n",
    "displayInventory(inv)"
   ]
  },
  {
   "cell_type": "markdown",
   "id": "853e2891",
   "metadata": {},
   "source": [
    "Q.7 Write a function named printTable() that takes a list of lists of strings and displays it in a well-organized table with each column right-justified.\n",
    "Assume that all the inner lists will contain the same number of strings.\n",
    "For example, the value could look like this:\n",
    "tableData = [['apples', 'oranges', 'cherries', 'banana'],\n",
    " ['Alice', 'Bob', 'Carol', 'David'],\n",
    " ['dogs', 'cats', 'moose', 'goose']]\n",
    "\n",
    "Your printTable() function would print the following:\n",
    " apples Alice dogs\n",
    " oranges Bob cats\n",
    " cherries Carol moose\n",
    " banana David goose\n",
    "\n",
    "Hint: Your code will first have to find the longest string in each of the inner lists so that the whole column can be wide enough to fit all the strings. You can store the maximum width of each column as a list of integers. The printTable() function can begin with colWidths = [0] * len(tableData), which will create a list containing the same number of 0 values as the number of inner lists in tableData. That way, colWidths[0] can store the width of the longest string in tableData[0], colWidths[1] can store the width of the longest string in tableData[1], and so on. You can then find the largest value in the colWidths list to find out what integer width to pass to the rjust() string\n",
    "method."
   ]
  },
  {
   "cell_type": "code",
   "execution_count": 44,
   "id": "34097478",
   "metadata": {},
   "outputs": [
    {
     "name": "stdout",
     "output_type": "stream",
     "text": [
      "list 1 27\n",
      "list 2 18\n",
      "list 3 18\n",
      "apples Alice dogs ---------------------------\n",
      "oranges Bob cats ---------------------------\n",
      "cherries Carol moose ---------------------------\n",
      "banana David goose ---------------------------\n"
     ]
    }
   ],
   "source": [
    "tableData=[['apples', 'oranges', 'cherries', 'banana'],\n",
    "        ['Alice', 'Bob', 'Carol', 'David'],\n",
    "        ['dogs', 'cats', 'moose', 'goose']]\n",
    "listlens=[]\n",
    "tour=0\n",
    "lists={}\n",
    "for m in tableData:\n",
    "    total=0\n",
    "    tour+=1\n",
    "    for n in m:\n",
    "        total+=len(n)\n",
    "        lists[\"list:\",tour]=total\n",
    "    print(\"list\",tour,total)    \n",
    "\n",
    "itemcount=list(lists.values())\n",
    "sortedlen=(sorted(itemcount,reverse=True))\n",
    "longest=sortedlen[0]\n",
    "\n",
    "for m in range(len(tableData[0])):\n",
    "    for n in range(len(tableData)):\n",
    "        print (tableData[n][m],end=\" \")\n",
    "        n+=1\n",
    "    print (\"\".rjust(lists['list:', 1],\"-\"))\n",
    "    m+=1"
   ]
  },
  {
   "cell_type": "code",
   "execution_count": null,
   "id": "92e9e674",
   "metadata": {},
   "outputs": [],
   "source": []
  }
 ],
 "metadata": {
  "kernelspec": {
   "display_name": "Python 3",
   "language": "python",
   "name": "python3"
  },
  "language_info": {
   "codemirror_mode": {
    "name": "ipython",
    "version": 3
   },
   "file_extension": ".py",
   "mimetype": "text/x-python",
   "name": "python",
   "nbconvert_exporter": "python",
   "pygments_lexer": "ipython3",
   "version": "3.8.8"
  }
 },
 "nbformat": 4,
 "nbformat_minor": 5
}
